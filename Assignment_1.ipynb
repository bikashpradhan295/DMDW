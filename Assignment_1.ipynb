{
  "nbformat": 4,
  "nbformat_minor": 0,
  "metadata": {
    "colab": {
      "name": "Assignment-1.ipynb",
      "provenance": [],
      "collapsed_sections": []
    },
    "kernelspec": {
      "name": "python3",
      "display_name": "Python 3"
    },
    "language_info": {
      "name": "python"
    }
  },
  "cells": [
    {
      "cell_type": "markdown",
      "metadata": {
        "id": "fXiUI_f8_u0D"
      },
      "source": [
        "Question-1\n",
        "Create a list in python . Next find mean and median of the list without using any builtin library functions,              Mean"
      ]
    },
    {
      "cell_type": "code",
      "metadata": {
        "colab": {
          "base_uri": "https://localhost:8080/"
        },
        "id": "n5lTtan8_-4Q",
        "outputId": "4978e77c-2627-4e35-f920-27d61f70815d"
      },
      "source": [
        "l=[12,35,18,9,56,24]\n",
        "mean=sum(l)/len(l)\n",
        "print(\"The mean of list l is \",mean)"
      ],
      "execution_count": null,
      "outputs": [
        {
          "output_type": "stream",
          "name": "stdout",
          "text": [
            "The mean of list l is  25.666666666666668\n"
          ]
        }
      ]
    },
    {
      "cell_type": "markdown",
      "metadata": {
        "id": "AcF7XptSAXiS"
      },
      "source": [
        "Median"
      ]
    },
    {
      "cell_type": "code",
      "metadata": {
        "colab": {
          "base_uri": "https://localhost:8080/"
        },
        "id": "SrJcaDyEAZre",
        "outputId": "aa7ed99c-35e8-415d-838b-2c974ad0f0c0"
      },
      "source": [
        "n=len(l)\n",
        "l.sort()\n",
        "if(n%2==0):\n",
        "    median=(l[n//2]+l[n//2-1])/2\n",
        "    print(\"The median is \",median)\n",
        "else:\n",
        "    median=l[n//2]\n",
        "    print(\"The median is \",median)"
      ],
      "execution_count": null,
      "outputs": [
        {
          "output_type": "stream",
          "name": "stdout",
          "text": [
            "The median is  21.0\n"
          ]
        }
      ]
    },
    {
      "cell_type": "markdown",
      "metadata": {
        "id": "anFdlOXdAe_8"
      },
      "source": [
        "2. Create list inj python. Next find the mode of the list without using any builtin library function"
      ]
    },
    {
      "cell_type": "code",
      "metadata": {
        "colab": {
          "base_uri": "https://localhost:8080/"
        },
        "id": "pQzpWb54AiA7",
        "outputId": "19f71724-e7ac-4c51-cb76-f2c139551f7b"
      },
      "source": [
        "list1=[2,3,1,1,6,2,1,5]\n",
        "list1.sort()\n",
        "list2 = []\n",
        "res = []\n",
        "for i in list1:\n",
        "    list2.append(list1.count(i))\n",
        "dic = dict(zip(list1,list2))\n",
        "for k,v in dic.items():\n",
        "    if v == max(list2):\n",
        "        res.append(k)\n",
        "print(\"Mode is: \",res)"
      ],
      "execution_count": null,
      "outputs": [
        {
          "output_type": "stream",
          "name": "stdout",
          "text": [
            "Mode is:  [1]\n"
          ]
        }
      ]
    },
    {
      "cell_type": "markdown",
      "metadata": {
        "id": "GUxfQwWsAn4L"
      },
      "source": [
        "3. Create a list in python. Next find the second smallest number and second highest number in the list."
      ]
    },
    {
      "cell_type": "code",
      "metadata": {
        "colab": {
          "base_uri": "https://localhost:8080/"
        },
        "id": "KKlcrKQBAo7z",
        "outputId": "08368238-3e62-429c-feb3-099f884b9197"
      },
      "source": [
        "l=[12,35,18,9,56,24]\n",
        "l.sort()\n",
        "print(\"The second largest number is : \",l[len(l)-2])\n",
        "print(\"The second smallest number is : \",l[1])"
      ],
      "execution_count": null,
      "outputs": [
        {
          "output_type": "stream",
          "name": "stdout",
          "text": [
            "The second largest number is :  35\n",
            "The second smallest number is :  12\n"
          ]
        }
      ]
    }
  ]
}